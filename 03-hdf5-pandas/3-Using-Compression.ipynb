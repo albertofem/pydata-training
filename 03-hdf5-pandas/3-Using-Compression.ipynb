{
 "cells": [
  {
   "cell_type": "markdown",
   "metadata": {},
   "source": [
    "# Using compression"
   ]
  },
  {
   "cell_type": "markdown",
   "metadata": {},
   "source": [
    "> Objectives:\n",
    "> * How to compress chunked datasets\n",
    "> * Learn how to fine-tune the HDF5 compression pipeline to suit your needs\n",
    "> * How to use pandas for reading CSV files"
   ]
  },
  {
   "cell_type": "markdown",
   "metadata": {},
   "source": [
    "## Load movielens datasets"
   ]
  },
  {
   "cell_type": "code",
   "execution_count": 5,
   "metadata": {
    "collapsed": true
   },
   "outputs": [],
   "source": [
    "import os\n",
    "import numpy as np\n",
    "import pandas as pd\n",
    "import tables"
   ]
  },
  {
   "cell_type": "code",
   "execution_count": 6,
   "metadata": {
    "collapsed": true
   },
   "outputs": [],
   "source": [
    "# Import CSV files via pandas\n",
    "dset = 'movielens-1m'\n",
    "fdata = os.path.join(dset, 'ratings.dat.gz')\n",
    "fitem = os.path.join(dset, 'movies.dat.gz')\n",
    "\n",
    "# pass in column names for each CSV\n",
    "r_cols = ['user_id', 'movie_id', 'rating', 'unix_timestamp']\n",
    "ratings = pd.read_csv(fdata, sep=';', names=r_cols)\n",
    "\n",
    "m_cols = ['movie_id', 'title', 'genres']\n",
    "movies = pd.read_csv(fitem, sep=';', names=m_cols,\n",
    "                     dtype={'title': object, 'genres': object})"
   ]
  },
  {
   "cell_type": "code",
   "execution_count": 7,
   "metadata": {},
   "outputs": [
    {
     "data": {
      "text/plain": [
       "movie_id     int64:dense\n",
       "title       object:dense\n",
       "genres      object:dense\n",
       "dtype: object"
      ]
     },
     "execution_count": 7,
     "metadata": {},
     "output_type": "execute_result"
    }
   ],
   "source": [
    "movies.ftypes"
   ]
  },
  {
   "cell_type": "code",
   "execution_count": 8,
   "metadata": {},
   "outputs": [
    {
     "data": {
      "text/html": [
       "<div>\n",
       "<style>\n",
       "    .dataframe thead tr:only-child th {\n",
       "        text-align: right;\n",
       "    }\n",
       "\n",
       "    .dataframe thead th {\n",
       "        text-align: left;\n",
       "    }\n",
       "\n",
       "    .dataframe tbody tr th {\n",
       "        vertical-align: top;\n",
       "    }\n",
       "</style>\n",
       "<table border=\"1\" class=\"dataframe\">\n",
       "  <thead>\n",
       "    <tr style=\"text-align: right;\">\n",
       "      <th></th>\n",
       "      <th>movie_id</th>\n",
       "      <th>title</th>\n",
       "      <th>genres</th>\n",
       "    </tr>\n",
       "  </thead>\n",
       "  <tbody>\n",
       "    <tr>\n",
       "      <th>0</th>\n",
       "      <td>1</td>\n",
       "      <td>Toy Story (1995)</td>\n",
       "      <td>Animation|Children's|Comedy</td>\n",
       "    </tr>\n",
       "    <tr>\n",
       "      <th>1</th>\n",
       "      <td>2</td>\n",
       "      <td>Jumanji (1995)</td>\n",
       "      <td>Adventure|Children's|Fantasy</td>\n",
       "    </tr>\n",
       "    <tr>\n",
       "      <th>2</th>\n",
       "      <td>3</td>\n",
       "      <td>Grumpier Old Men (1995)</td>\n",
       "      <td>Comedy|Romance</td>\n",
       "    </tr>\n",
       "    <tr>\n",
       "      <th>3</th>\n",
       "      <td>4</td>\n",
       "      <td>Waiting to Exhale (1995)</td>\n",
       "      <td>Comedy|Drama</td>\n",
       "    </tr>\n",
       "    <tr>\n",
       "      <th>4</th>\n",
       "      <td>5</td>\n",
       "      <td>Father of the Bride Part II (1995)</td>\n",
       "      <td>Comedy</td>\n",
       "    </tr>\n",
       "  </tbody>\n",
       "</table>\n",
       "</div>"
      ],
      "text/plain": [
       "   movie_id                               title                        genres\n",
       "0         1                    Toy Story (1995)   Animation|Children's|Comedy\n",
       "1         2                      Jumanji (1995)  Adventure|Children's|Fantasy\n",
       "2         3             Grumpier Old Men (1995)                Comedy|Romance\n",
       "3         4            Waiting to Exhale (1995)                  Comedy|Drama\n",
       "4         5  Father of the Bride Part II (1995)                        Comedy"
      ]
     },
     "execution_count": 8,
     "metadata": {},
     "output_type": "execute_result"
    }
   ],
   "source": [
    "movies.head()"
   ]
  },
  {
   "cell_type": "code",
   "execution_count": 9,
   "metadata": {},
   "outputs": [
    {
     "data": {
      "text/plain": [
       "user_id           int64:dense\n",
       "movie_id          int64:dense\n",
       "rating            int64:dense\n",
       "unix_timestamp    int64:dense\n",
       "dtype: object"
      ]
     },
     "execution_count": 9,
     "metadata": {},
     "output_type": "execute_result"
    }
   ],
   "source": [
    "ratings.ftypes"
   ]
  },
  {
   "cell_type": "code",
   "execution_count": 10,
   "metadata": {},
   "outputs": [
    {
     "data": {
      "text/html": [
       "<div>\n",
       "<style>\n",
       "    .dataframe thead tr:only-child th {\n",
       "        text-align: right;\n",
       "    }\n",
       "\n",
       "    .dataframe thead th {\n",
       "        text-align: left;\n",
       "    }\n",
       "\n",
       "    .dataframe tbody tr th {\n",
       "        vertical-align: top;\n",
       "    }\n",
       "</style>\n",
       "<table border=\"1\" class=\"dataframe\">\n",
       "  <thead>\n",
       "    <tr style=\"text-align: right;\">\n",
       "      <th></th>\n",
       "      <th>user_id</th>\n",
       "      <th>movie_id</th>\n",
       "      <th>rating</th>\n",
       "      <th>unix_timestamp</th>\n",
       "    </tr>\n",
       "  </thead>\n",
       "  <tbody>\n",
       "    <tr>\n",
       "      <th>0</th>\n",
       "      <td>1</td>\n",
       "      <td>1193</td>\n",
       "      <td>5</td>\n",
       "      <td>978300760</td>\n",
       "    </tr>\n",
       "    <tr>\n",
       "      <th>1</th>\n",
       "      <td>1</td>\n",
       "      <td>661</td>\n",
       "      <td>3</td>\n",
       "      <td>978302109</td>\n",
       "    </tr>\n",
       "    <tr>\n",
       "      <th>2</th>\n",
       "      <td>1</td>\n",
       "      <td>914</td>\n",
       "      <td>3</td>\n",
       "      <td>978301968</td>\n",
       "    </tr>\n",
       "    <tr>\n",
       "      <th>3</th>\n",
       "      <td>1</td>\n",
       "      <td>3408</td>\n",
       "      <td>4</td>\n",
       "      <td>978300275</td>\n",
       "    </tr>\n",
       "    <tr>\n",
       "      <th>4</th>\n",
       "      <td>1</td>\n",
       "      <td>2355</td>\n",
       "      <td>5</td>\n",
       "      <td>978824291</td>\n",
       "    </tr>\n",
       "  </tbody>\n",
       "</table>\n",
       "</div>"
      ],
      "text/plain": [
       "   user_id  movie_id  rating  unix_timestamp\n",
       "0        1      1193       5       978300760\n",
       "1        1       661       3       978302109\n",
       "2        1       914       3       978301968\n",
       "3        1      3408       4       978300275\n",
       "4        1      2355       5       978824291"
      ]
     },
     "execution_count": 10,
     "metadata": {},
     "output_type": "execute_result"
    }
   ],
   "source": [
    "ratings.head()"
   ]
  },
  {
   "cell_type": "markdown",
   "metadata": {},
   "source": [
    "## Storing in HDF5/PyTables in compressed form"
   ]
  },
  {
   "cell_type": "code",
   "execution_count": 11,
   "metadata": {
    "collapsed": true
   },
   "outputs": [],
   "source": [
    "import os\n",
    "import shutil\n",
    "data_dir = \"compression\"\n",
    "if os.path.exists(data_dir):\n",
    "    shutil.rmtree(data_dir)\n",
    "os.mkdir(data_dir)"
   ]
  },
  {
   "cell_type": "code",
   "execution_count": 12,
   "metadata": {
    "collapsed": true
   },
   "outputs": [],
   "source": [
    "def to_hdf5(ratings, movies, filters):\n",
    "    \n",
    "    class Ratings(tables.IsDescription):\n",
    "        user_id = tables.Int32Col(pos=0)\n",
    "        movie_id = tables.Int32Col(pos=1)\n",
    "        rating = tables.Int8Col(pos=2)\n",
    "        unix_timestamp = tables.Int64Col(pos=3)\n",
    "    \n",
    "    class Movies(tables.IsDescription):\n",
    "        movie_id = tables.Int32Col(pos=0)\n",
    "        title = tables.StringCol(100, pos=1)\n",
    "        genres = tables.StringCol(50, pos=2)\n",
    "    \n",
    "    def get_filename(filters):\n",
    "        if filters.complevel != 0:\n",
    "            complib = filters.complib if \":\" not in filters.complib else filters.complib.replace(\":\", \"-\")\n",
    "            shuffle = \"shuffle\" if filters.shuffle else \"noshuffle\"\n",
    "            filename = \"%s/%s-%d-%s.h5\" % (data_dir, complib, filters.complevel, shuffle)\n",
    "        else:\n",
    "            filename = \"%s/no-compressed.h5\" % (data_dir,)\n",
    "        return filename\n",
    "\n",
    "    filename = get_filename(filters)\n",
    "    print(\"Creating file:\", filename)\n",
    "    with tables.open_file(filename, \"w\") as f:\n",
    "        table_ratings = f.create_table(f.root, \"ratings\", Ratings, filters=filters, expectedrows=len(ratings))\n",
    "        table_ratings.append([ratings[col].values for col in ratings.ftypes.keys()])\n",
    "        table_movies = f.create_table(f.root, \"movies\", Movies, filters=filters, expectedrows=len(movies))\n",
    "        table_movies.append([movies[col].values for col in movies.ftypes.keys()])\n",
    "    return filename"
   ]
  },
  {
   "cell_type": "code",
   "execution_count": 13,
   "metadata": {
    "scrolled": true
   },
   "outputs": [
    {
     "name": "stdout",
     "output_type": "stream",
     "text": [
      "('Creating file:', 'compression/zlib-5-shuffle.h5')\n",
      "CPU times: user 360 ms, sys: 28.3 ms, total: 388 ms\n",
      "Wall time: 387 ms\n"
     ]
    }
   ],
   "source": [
    "%%time\n",
    "filters = tables.Filters(complevel=5, shuffle=True)\n",
    "h5file = to_hdf5(ratings, movies, filters)"
   ]
  },
  {
   "cell_type": "code",
   "execution_count": 14,
   "metadata": {},
   "outputs": [
    {
     "name": "stdout",
     "output_type": "stream",
     "text": [
      "-rw-r--r--  1 albertofernandezmartinez  staff   4.2M May 19 16:00 compression/zlib-5-shuffle.h5\r\n"
     ]
    }
   ],
   "source": [
    "!ls -lah {h5file}"
   ]
  },
  {
   "cell_type": "code",
   "execution_count": 15,
   "metadata": {},
   "outputs": [
    {
     "name": "stdout",
     "output_type": "stream",
     "text": [
      "/ (RootGroup) ''\r\n",
      "/movies (Table(3883,), shuffle, zlib(5)) ''\r\n",
      "  description := {\r\n",
      "  \"movie_id\": Int32Col(shape=(), dflt=0, pos=0),\r\n",
      "  \"title\": StringCol(itemsize=100, shape=(), dflt='', pos=1),\r\n",
      "  \"genres\": StringCol(itemsize=50, shape=(), dflt='', pos=2)}\r\n",
      "  byteorder := 'little'\r\n",
      "  chunkshape := (425,)\r\n",
      "/ratings (Table(1000209,), shuffle, zlib(5)) ''\r\n",
      "  description := {\r\n",
      "  \"user_id\": Int32Col(shape=(), dflt=0, pos=0),\r\n",
      "  \"movie_id\": Int32Col(shape=(), dflt=0, pos=1),\r\n",
      "  \"rating\": Int8Col(shape=(), dflt=0, pos=2),\r\n",
      "  \"unix_timestamp\": Int64Col(shape=(), dflt=0, pos=3)}\r\n",
      "  byteorder := 'little'\r\n",
      "  chunkshape := (7710,)\r\n"
     ]
    }
   ],
   "source": [
    "!ptdump -v {h5file}"
   ]
  },
  {
   "cell_type": "markdown",
   "metadata": {},
   "source": [
    "### Exercise 1\n",
    "\n",
    "PyTables comes with out-of-box support for a series of codecs.  Do a quick comparison between \"zlib\", \"bzip2\", and \"blosc\" for compression levels of 1 (fastest), 5 and 9 (slowest).  Which one compresses best?  Which one compresses faster?\n",
    "\n",
    "Also, Blosc being a meta-compressor, it has support for different codecs internally that can be selected from PyTables in the \"blosc:`codec`\" form.  Do another comparison between internal Blosc codecs, namely, \"blosc:blosclz\" (the default), \"blosc:lz4\", \"blosc:lz4hc\", \"blosc:snappy\", \"blosc:zlib\" and \"blosc:zstd\".\n",
    "\n",
    "Finally, avoid any compression totally (`complevel=0`).  How fast it is compared with existing codecs?"
   ]
  },
  {
   "cell_type": "code",
   "execution_count": 16,
   "metadata": {
    "collapsed": true
   },
   "outputs": [],
   "source": [
    "compression_libs = [\"zlib\", \"bzip2\", \"blosc\", \"blosc:lz4\", \"blosc:lz4hc\", \"blosc:snappy\", \"blosc:zlib\", \"blosc:zstd\"]"
   ]
  },
  {
   "cell_type": "code",
   "execution_count": 24,
   "metadata": {
    "collapsed": true
   },
   "outputs": [],
   "source": [
    "def generate_compressed(complevel):\n",
    "    generated_files = []\n",
    "    \n",
    "    for complib in compression_libs:\n",
    "        %%time\n",
    "        filters = tables.Filters(complevel=complevel, shuffle=True, complib=complib)\n",
    "        generated_files.append(to_hdf5(ratings, movies, filters))\n",
    "        \n",
    "    for file in generated_files:\n",
    "        !ls -lah {file}"
   ]
  },
  {
   "cell_type": "code",
   "execution_count": 25,
   "metadata": {},
   "outputs": [
    {
     "name": "stdout",
     "output_type": "stream",
     "text": [
      "CPU times: user 2 µs, sys: 1 µs, total: 3 µs\n",
      "Wall time: 5.96 µs\n",
      "('Creating file:', 'compression/zlib-1-shuffle.h5')\n",
      "CPU times: user 2 µs, sys: 1e+03 ns, total: 3 µs\n",
      "Wall time: 5.01 µs\n",
      "('Creating file:', 'compression/bzip2-1-shuffle.h5')\n",
      "CPU times: user 1 µs, sys: 0 ns, total: 1 µs\n",
      "Wall time: 4.05 µs\n",
      "('Creating file:', 'compression/blosc-1-shuffle.h5')\n",
      "CPU times: user 2 µs, sys: 1e+03 ns, total: 3 µs\n",
      "Wall time: 5.01 µs\n",
      "('Creating file:', 'compression/blosc-lz4-1-shuffle.h5')\n",
      "CPU times: user 2 µs, sys: 0 ns, total: 2 µs\n",
      "Wall time: 5.01 µs\n",
      "('Creating file:', 'compression/blosc-lz4hc-1-shuffle.h5')\n",
      "CPU times: user 6 µs, sys: 3 µs, total: 9 µs\n",
      "Wall time: 16.9 µs\n",
      "('Creating file:', 'compression/blosc-snappy-1-shuffle.h5')\n",
      "CPU times: user 2 µs, sys: 0 ns, total: 2 µs\n",
      "Wall time: 5.96 µs\n",
      "('Creating file:', 'compression/blosc-zlib-1-shuffle.h5')\n",
      "CPU times: user 2 µs, sys: 0 ns, total: 2 µs\n",
      "Wall time: 4.05 µs\n",
      "('Creating file:', 'compression/blosc-zstd-1-shuffle.h5')\n",
      "-rw-r--r--  1 albertofernandezmartinez  staff   4.3M May 19 16:07 compression/zlib-1-shuffle.h5\n",
      "-rw-r--r--  1 albertofernandezmartinez  staff   4.1M May 19 16:07 compression/bzip2-1-shuffle.h5\n",
      "-rw-r--r--  1 albertofernandezmartinez  staff    17M May 19 16:07 compression/blosc-1-shuffle.h5\n",
      "-rw-r--r--  1 albertofernandezmartinez  staff   5.6M May 19 16:07 compression/blosc-lz4-1-shuffle.h5\n",
      "-rw-r--r--  1 albertofernandezmartinez  staff   5.1M May 19 16:07 compression/blosc-lz4hc-1-shuffle.h5\n",
      "-rw-r--r--  1 albertofernandezmartinez  staff   5.6M May 19 16:07 compression/blosc-snappy-1-shuffle.h5\n",
      "-rw-r--r--  1 albertofernandezmartinez  staff   4.5M May 19 16:07 compression/blosc-zlib-1-shuffle.h5\n",
      "-rw-r--r--  1 albertofernandezmartinez  staff   4.6M May 19 16:07 compression/blosc-zstd-1-shuffle.h5\n"
     ]
    }
   ],
   "source": [
    "generate_compressed(1)"
   ]
  },
  {
   "cell_type": "code",
   "execution_count": 26,
   "metadata": {},
   "outputs": [
    {
     "name": "stdout",
     "output_type": "stream",
     "text": [
      "CPU times: user 4 µs, sys: 2 µs, total: 6 µs\n",
      "Wall time: 10 µs\n",
      "('Creating file:', 'compression/zlib-5-shuffle.h5')\n",
      "CPU times: user 2 µs, sys: 1e+03 ns, total: 3 µs\n",
      "Wall time: 5.01 µs\n",
      "('Creating file:', 'compression/bzip2-5-shuffle.h5')\n",
      "CPU times: user 1 µs, sys: 0 ns, total: 1 µs\n",
      "Wall time: 3.81 µs\n",
      "('Creating file:', 'compression/blosc-5-shuffle.h5')\n",
      "CPU times: user 2 µs, sys: 0 ns, total: 2 µs\n",
      "Wall time: 4.05 µs\n",
      "('Creating file:', 'compression/blosc-lz4-5-shuffle.h5')\n",
      "CPU times: user 2 µs, sys: 1 µs, total: 3 µs\n",
      "Wall time: 4.05 µs\n",
      "('Creating file:', 'compression/blosc-lz4hc-5-shuffle.h5')\n",
      "CPU times: user 2 µs, sys: 0 ns, total: 2 µs\n",
      "Wall time: 4.05 µs\n",
      "('Creating file:', 'compression/blosc-snappy-5-shuffle.h5')\n",
      "CPU times: user 2 µs, sys: 1e+03 ns, total: 3 µs\n",
      "Wall time: 5.01 µs\n",
      "('Creating file:', 'compression/blosc-zlib-5-shuffle.h5')\n",
      "CPU times: user 3 µs, sys: 0 ns, total: 3 µs\n",
      "Wall time: 7.15 µs\n",
      "('Creating file:', 'compression/blosc-zstd-5-shuffle.h5')\n",
      "-rw-r--r--  1 albertofernandezmartinez  staff   4.2M May 19 16:07 compression/zlib-5-shuffle.h5\n",
      "-rw-r--r--  1 albertofernandezmartinez  staff   4.1M May 19 16:07 compression/bzip2-5-shuffle.h5\n",
      "-rw-r--r--  1 albertofernandezmartinez  staff   5.0M May 19 16:07 compression/blosc-5-shuffle.h5\n",
      "-rw-r--r--  1 albertofernandezmartinez  staff   5.4M May 19 16:07 compression/blosc-lz4-5-shuffle.h5\n",
      "-rw-r--r--  1 albertofernandezmartinez  staff   4.8M May 19 16:07 compression/blosc-lz4hc-5-shuffle.h5\n",
      "-rw-r--r--  1 albertofernandezmartinez  staff   5.5M May 19 16:07 compression/blosc-snappy-5-shuffle.h5\n",
      "-rw-r--r--  1 albertofernandezmartinez  staff   4.3M May 19 16:07 compression/blosc-zlib-5-shuffle.h5\n",
      "-rw-r--r--  1 albertofernandezmartinez  staff   4.3M May 19 16:07 compression/blosc-zstd-5-shuffle.h5\n"
     ]
    }
   ],
   "source": [
    "generate_compressed(5)"
   ]
  },
  {
   "cell_type": "code",
   "execution_count": 27,
   "metadata": {},
   "outputs": [
    {
     "name": "stdout",
     "output_type": "stream",
     "text": [
      "CPU times: user 2 µs, sys: 1 µs, total: 3 µs\n",
      "Wall time: 5.01 µs\n",
      "('Creating file:', 'compression/zlib-9-shuffle.h5')\n",
      "CPU times: user 2 µs, sys: 0 ns, total: 2 µs\n",
      "Wall time: 11 µs\n",
      "('Creating file:', 'compression/bzip2-9-shuffle.h5')\n",
      "CPU times: user 2 µs, sys: 0 ns, total: 2 µs\n",
      "Wall time: 5.01 µs\n",
      "('Creating file:', 'compression/blosc-9-shuffle.h5')\n",
      "CPU times: user 1 µs, sys: 0 ns, total: 1 µs\n",
      "Wall time: 5.01 µs\n",
      "('Creating file:', 'compression/blosc-lz4-9-shuffle.h5')\n",
      "CPU times: user 2 µs, sys: 0 ns, total: 2 µs\n",
      "Wall time: 4.05 µs\n",
      "('Creating file:', 'compression/blosc-lz4hc-9-shuffle.h5')\n",
      "CPU times: user 3 µs, sys: 1 µs, total: 4 µs\n",
      "Wall time: 5.96 µs\n",
      "('Creating file:', 'compression/blosc-snappy-9-shuffle.h5')\n",
      "CPU times: user 3 µs, sys: 1e+03 ns, total: 4 µs\n",
      "Wall time: 5.96 µs\n",
      "('Creating file:', 'compression/blosc-zlib-9-shuffle.h5')\n",
      "CPU times: user 2 µs, sys: 0 ns, total: 2 µs\n",
      "Wall time: 4.05 µs\n",
      "('Creating file:', 'compression/blosc-zstd-9-shuffle.h5')\n",
      "-rw-r--r--  1 albertofernandezmartinez  staff   4.2M May 19 16:07 compression/zlib-9-shuffle.h5\n",
      "-rw-r--r--  1 albertofernandezmartinez  staff   4.1M May 19 16:07 compression/bzip2-9-shuffle.h5\n",
      "-rw-r--r--  1 albertofernandezmartinez  staff   5.3M May 19 16:07 compression/blosc-9-shuffle.h5\n",
      "-rw-r--r--  1 albertofernandezmartinez  staff   5.0M May 19 16:07 compression/blosc-lz4-9-shuffle.h5\n",
      "-rw-r--r--  1 albertofernandezmartinez  staff   4.7M May 19 16:07 compression/blosc-lz4hc-9-shuffle.h5\n",
      "-rw-r--r--  1 albertofernandezmartinez  staff    17M May 19 16:07 compression/blosc-snappy-9-shuffle.h5\n",
      "-rw-r--r--  1 albertofernandezmartinez  staff   4.2M May 19 16:07 compression/blosc-zlib-9-shuffle.h5\n",
      "-rw-r--r--  1 albertofernandezmartinez  staff   4.0M May 19 16:07 compression/blosc-zstd-9-shuffle.h5\n"
     ]
    }
   ],
   "source": [
    "generate_compressed(9)"
   ]
  },
  {
   "cell_type": "markdown",
   "metadata": {},
   "source": [
    "## Reading compressed datasets"
   ]
  },
  {
   "cell_type": "code",
   "execution_count": 29,
   "metadata": {
    "collapsed": true
   },
   "outputs": [],
   "source": [
    "files = list(os.walk(data_dir))[0][2]"
   ]
  },
  {
   "cell_type": "code",
   "execution_count": 30,
   "metadata": {},
   "outputs": [
    {
     "data": {
      "text/plain": [
       "['blosc-1-shuffle.h5',\n",
       " 'blosc-5-shuffle.h5',\n",
       " 'blosc-9-shuffle.h5',\n",
       " 'blosc-lz4-1-shuffle.h5',\n",
       " 'blosc-lz4-5-shuffle.h5',\n",
       " 'blosc-lz4-9-shuffle.h5',\n",
       " 'blosc-lz4hc-1-shuffle.h5',\n",
       " 'blosc-lz4hc-5-shuffle.h5',\n",
       " 'blosc-lz4hc-9-shuffle.h5',\n",
       " 'blosc-snappy-1-shuffle.h5',\n",
       " 'blosc-snappy-5-shuffle.h5',\n",
       " 'blosc-snappy-9-shuffle.h5',\n",
       " 'blosc-zlib-1-shuffle.h5',\n",
       " 'blosc-zlib-5-shuffle.h5',\n",
       " 'blosc-zlib-9-shuffle.h5',\n",
       " 'blosc-zstd-1-shuffle.h5',\n",
       " 'blosc-zstd-5-shuffle.h5',\n",
       " 'blosc-zstd-9-shuffle.h5',\n",
       " 'bzip2-1-shuffle.h5',\n",
       " 'bzip2-5-shuffle.h5',\n",
       " 'bzip2-9-shuffle.h5',\n",
       " 'zlib-1-shuffle.h5',\n",
       " 'zlib-5-shuffle.h5',\n",
       " 'zlib-9-shuffle.h5']"
      ]
     },
     "execution_count": 30,
     "metadata": {},
     "output_type": "execute_result"
    }
   ],
   "source": [
    "files"
   ]
  },
  {
   "cell_type": "code",
   "execution_count": 31,
   "metadata": {},
   "outputs": [
    {
     "name": "stdout",
     "output_type": "stream",
     "text": [
      "('Reading file:', 'blosc-1-shuffle.h5')\n",
      "CPU times: user 8.25 ms, sys: 15.1 ms, total: 23.3 ms\n",
      "Wall time: 22.2 ms\n",
      "('Reading file:', 'blosc-5-shuffle.h5')\n",
      "CPU times: user 25.9 ms, sys: 14.2 ms, total: 40 ms\n",
      "Wall time: 40.6 ms\n",
      "('Reading file:', 'blosc-9-shuffle.h5')\n",
      "CPU times: user 16 ms, sys: 6.74 ms, total: 22.8 ms\n",
      "Wall time: 22.6 ms\n",
      "('Reading file:', 'blosc-lz4-1-shuffle.h5')\n",
      "CPU times: user 15 ms, sys: 7.59 ms, total: 22.6 ms\n",
      "Wall time: 23.7 ms\n",
      "('Reading file:', 'blosc-lz4-5-shuffle.h5')\n",
      "CPU times: user 14.7 ms, sys: 7.12 ms, total: 21.8 ms\n",
      "Wall time: 21.8 ms\n",
      "('Reading file:', 'blosc-lz4-9-shuffle.h5')\n",
      "CPU times: user 14.4 ms, sys: 7.67 ms, total: 22.1 ms\n",
      "Wall time: 22 ms\n",
      "('Reading file:', 'blosc-lz4hc-1-shuffle.h5')\n",
      "CPU times: user 16 ms, sys: 8.33 ms, total: 24.4 ms\n",
      "Wall time: 23.5 ms\n",
      "('Reading file:', 'blosc-lz4hc-5-shuffle.h5')\n",
      "CPU times: user 16.2 ms, sys: 9.06 ms, total: 25.2 ms\n",
      "Wall time: 25.5 ms\n",
      "('Reading file:', 'blosc-lz4hc-9-shuffle.h5')\n",
      "CPU times: user 13.4 ms, sys: 6.64 ms, total: 20.1 ms\n",
      "Wall time: 19.9 ms\n",
      "('Reading file:', 'blosc-snappy-1-shuffle.h5')\n",
      "CPU times: user 17.2 ms, sys: 6.85 ms, total: 24 ms\n",
      "Wall time: 23.8 ms\n",
      "('Reading file:', 'blosc-snappy-5-shuffle.h5')\n",
      "CPU times: user 17.5 ms, sys: 7 ms, total: 24.4 ms\n",
      "Wall time: 24.5 ms\n",
      "('Reading file:', 'blosc-snappy-9-shuffle.h5')\n",
      "CPU times: user 5.91 ms, sys: 9.36 ms, total: 15.3 ms\n",
      "Wall time: 15 ms\n",
      "('Reading file:', 'blosc-zlib-1-shuffle.h5')\n",
      "CPU times: user 53.5 ms, sys: 7.64 ms, total: 61.2 ms\n",
      "Wall time: 62.5 ms\n",
      "('Reading file:', 'blosc-zlib-5-shuffle.h5')\n",
      "CPU times: user 76.1 ms, sys: 12.1 ms, total: 88.2 ms\n",
      "Wall time: 90.7 ms\n",
      "('Reading file:', 'blosc-zlib-9-shuffle.h5')\n",
      "CPU times: user 77.3 ms, sys: 10.1 ms, total: 87.3 ms\n",
      "Wall time: 88.8 ms\n",
      "('Reading file:', 'blosc-zstd-1-shuffle.h5')\n",
      "CPU times: user 50.3 ms, sys: 14.2 ms, total: 64.5 ms\n",
      "Wall time: 78.8 ms\n",
      "('Reading file:', 'blosc-zstd-5-shuffle.h5')\n",
      "CPU times: user 44.2 ms, sys: 10.8 ms, total: 55 ms\n",
      "Wall time: 57.2 ms\n",
      "('Reading file:', 'blosc-zstd-9-shuffle.h5')\n",
      "CPU times: user 30.5 ms, sys: 11.4 ms, total: 41.9 ms\n",
      "Wall time: 48.6 ms\n",
      "('Reading file:', 'bzip2-1-shuffle.h5')\n",
      "CPU times: user 438 ms, sys: 12.9 ms, total: 451 ms\n",
      "Wall time: 456 ms\n",
      "('Reading file:', 'bzip2-5-shuffle.h5')\n",
      "CPU times: user 418 ms, sys: 12.2 ms, total: 431 ms\n",
      "Wall time: 433 ms\n",
      "('Reading file:', 'bzip2-9-shuffle.h5')\n",
      "CPU times: user 450 ms, sys: 12.9 ms, total: 463 ms\n",
      "Wall time: 563 ms\n",
      "('Reading file:', 'zlib-1-shuffle.h5')\n",
      "CPU times: user 85.3 ms, sys: 7.72 ms, total: 93 ms\n",
      "Wall time: 93.1 ms\n",
      "('Reading file:', 'zlib-5-shuffle.h5')\n",
      "CPU times: user 99.1 ms, sys: 14.5 ms, total: 114 ms\n",
      "Wall time: 114 ms\n",
      "('Reading file:', 'zlib-9-shuffle.h5')\n",
      "CPU times: user 99.4 ms, sys: 9.9 ms, total: 109 ms\n",
      "Wall time: 110 ms\n"
     ]
    }
   ],
   "source": [
    "for f in files:\n",
    "    print(\"Reading file:\", f)\n",
    "    with tables.open_file(os.path.join(data_dir, f)) as h5f:\n",
    "        %time h5f.root.ratings[:]"
   ]
  },
  {
   "cell_type": "markdown",
   "metadata": {},
   "source": [
    "### Exercise 2\n",
    "\n",
    "Which codec and compression level can read the fastest?  How does it compare with reading an uncompressed dataset?"
   ]
  },
  {
   "cell_type": "markdown",
   "metadata": {},
   "source": [
    "### Exercise 3\n",
    "\n",
    "Blosc can use multithreading for compressing/decompressing, although it is disabled by default.  You can enable a multithreaded Blosc in a series of ways, but perhaps the easiest is to set the \"BLOSC_NTHREADS\" environment variable to the desired number of threads (typically the available number of cores in your computer).\n",
    "\n",
    "Execute the cell below and re-do the reading benchmarks and look at how the reading speed vary.  Pay special attention to the difference between the CPU times and wall times."
   ]
  },
  {
   "cell_type": "code",
   "execution_count": 37,
   "metadata": {
    "collapsed": true
   },
   "outputs": [],
   "source": [
    "os.environ[\"BLOSC_NTHREADS\"] = \"8\"  # set to any other number you prefer"
   ]
  },
  {
   "cell_type": "code",
   "execution_count": 40,
   "metadata": {},
   "outputs": [
    {
     "name": "stdout",
     "output_type": "stream",
     "text": [
      "('Reading file:', 'blosc-1-shuffle.h5')\n",
      "CPU times: user 9.23 ms, sys: 13.1 ms, total: 22.4 ms\n",
      "Wall time: 22.2 ms\n",
      "('Reading file:', 'blosc-5-shuffle.h5')\n",
      "CPU times: user 27.9 ms, sys: 22.9 ms, total: 50.8 ms\n",
      "Wall time: 33.3 ms\n",
      "('Reading file:', 'blosc-9-shuffle.h5')\n",
      "CPU times: user 27.5 ms, sys: 16.6 ms, total: 44.1 ms\n",
      "Wall time: 46.2 ms\n",
      "('Reading file:', 'blosc-lz4-1-shuffle.h5')\n",
      "CPU times: user 19.7 ms, sys: 25.6 ms, total: 45.4 ms\n",
      "Wall time: 26.6 ms\n",
      "('Reading file:', 'blosc-lz4-5-shuffle.h5')\n",
      "CPU times: user 18.6 ms, sys: 31 ms, total: 49.6 ms\n",
      "Wall time: 31.2 ms\n",
      "('Reading file:', 'blosc-lz4-9-shuffle.h5')\n",
      "CPU times: user 15.2 ms, sys: 9.16 ms, total: 24.3 ms\n",
      "Wall time: 24.2 ms\n",
      "('Reading file:', 'blosc-lz4hc-1-shuffle.h5')\n",
      "CPU times: user 20.7 ms, sys: 33.1 ms, total: 53.8 ms\n",
      "Wall time: 34.5 ms\n",
      "('Reading file:', 'blosc-lz4hc-5-shuffle.h5')\n",
      "CPU times: user 18.6 ms, sys: 29.8 ms, total: 48.5 ms\n",
      "Wall time: 33.6 ms\n",
      "('Reading file:', 'blosc-lz4hc-9-shuffle.h5')\n",
      "CPU times: user 14.4 ms, sys: 8 ms, total: 22.4 ms\n",
      "Wall time: 23.3 ms\n",
      "('Reading file:', 'blosc-snappy-1-shuffle.h5')\n",
      "CPU times: user 6.35 ms, sys: 11.7 ms, total: 18 ms\n",
      "Wall time: 18.2 ms\n",
      "('Reading file:', 'blosc-snappy-5-shuffle.h5')\n",
      "CPU times: user 7.28 ms, sys: 12.1 ms, total: 19.4 ms\n",
      "Wall time: 20.8 ms\n",
      "('Reading file:', 'blosc-snappy-9-shuffle.h5')\n",
      "CPU times: user 9.23 ms, sys: 15.1 ms, total: 24.3 ms\n",
      "Wall time: 25.5 ms\n",
      "('Reading file:', 'blosc-zlib-1-shuffle.h5')\n",
      "CPU times: user 75.9 ms, sys: 29.4 ms, total: 105 ms\n",
      "Wall time: 76.7 ms\n",
      "('Reading file:', 'blosc-zlib-5-shuffle.h5')\n",
      "CPU times: user 83.2 ms, sys: 36.4 ms, total: 120 ms\n",
      "Wall time: 179 ms\n",
      "('Reading file:', 'blosc-zlib-9-shuffle.h5')\n",
      "CPU times: user 72 ms, sys: 10.7 ms, total: 82.7 ms\n",
      "Wall time: 86.1 ms\n",
      "('Reading file:', 'blosc-zstd-1-shuffle.h5')\n",
      "CPU times: user 58.5 ms, sys: 43.2 ms, total: 102 ms\n",
      "Wall time: 65.1 ms\n",
      "('Reading file:', 'blosc-zstd-5-shuffle.h5')\n",
      "CPU times: user 53.8 ms, sys: 42.1 ms, total: 95.9 ms\n",
      "Wall time: 66.8 ms\n",
      "('Reading file:', 'blosc-zstd-9-shuffle.h5')\n",
      "CPU times: user 29.6 ms, sys: 11.4 ms, total: 41 ms\n",
      "Wall time: 42.2 ms\n",
      "('Reading file:', 'bzip2-1-shuffle.h5')\n",
      "CPU times: user 432 ms, sys: 22.2 ms, total: 454 ms\n",
      "Wall time: 470 ms\n",
      "('Reading file:', 'bzip2-5-shuffle.h5')\n",
      "CPU times: user 498 ms, sys: 27.1 ms, total: 525 ms\n",
      "Wall time: 614 ms\n",
      "('Reading file:', 'bzip2-9-shuffle.h5')\n",
      "CPU times: user 432 ms, sys: 16.6 ms, total: 449 ms\n",
      "Wall time: 462 ms\n",
      "('Reading file:', 'zlib-1-shuffle.h5')\n",
      "CPU times: user 94.6 ms, sys: 17.8 ms, total: 112 ms\n",
      "Wall time: 118 ms\n",
      "('Reading file:', 'zlib-5-shuffle.h5')\n",
      "CPU times: user 110 ms, sys: 21.3 ms, total: 132 ms\n",
      "Wall time: 138 ms\n",
      "('Reading file:', 'zlib-9-shuffle.h5')\n",
      "CPU times: user 111 ms, sys: 16.1 ms, total: 127 ms\n",
      "Wall time: 137 ms\n"
     ]
    }
   ],
   "source": [
    "for f in files:\n",
    "    print(\"Reading file:\", f)\n",
    "    with tables.open_file(os.path.join(data_dir, f)) as h5f:\n",
    "        %time h5f.root.ratings[:]"
   ]
  },
  {
   "cell_type": "code",
   "execution_count": 38,
   "metadata": {},
   "outputs": [
    {
     "name": "stdout",
     "output_type": "stream",
     "text": [
      "CPU times: user 2 µs, sys: 1 µs, total: 3 µs\n",
      "Wall time: 4.05 µs\n",
      "('Creating file:', 'compression/zlib-5-shuffle.h5')\n",
      "CPU times: user 2 µs, sys: 1 µs, total: 3 µs\n",
      "Wall time: 7.15 µs\n",
      "('Creating file:', 'compression/bzip2-5-shuffle.h5')\n",
      "CPU times: user 1e+03 ns, sys: 0 ns, total: 1e+03 ns\n",
      "Wall time: 3.81 µs\n",
      "('Creating file:', 'compression/blosc-5-shuffle.h5')\n",
      "CPU times: user 2 µs, sys: 1 µs, total: 3 µs\n",
      "Wall time: 5.01 µs\n",
      "('Creating file:', 'compression/blosc-lz4-5-shuffle.h5')\n",
      "CPU times: user 2 µs, sys: 1 µs, total: 3 µs\n",
      "Wall time: 5.01 µs\n",
      "('Creating file:', 'compression/blosc-lz4hc-5-shuffle.h5')\n",
      "CPU times: user 2 µs, sys: 0 ns, total: 2 µs\n",
      "Wall time: 4.05 µs\n",
      "('Creating file:', 'compression/blosc-snappy-5-shuffle.h5')\n",
      "CPU times: user 1e+03 ns, sys: 0 ns, total: 1e+03 ns\n",
      "Wall time: 5.01 µs\n",
      "('Creating file:', 'compression/blosc-zlib-5-shuffle.h5')\n",
      "CPU times: user 2 µs, sys: 0 ns, total: 2 µs\n",
      "Wall time: 7.15 µs\n",
      "('Creating file:', 'compression/blosc-zstd-5-shuffle.h5')\n",
      "-rw-r--r--  1 albertofernandezmartinez  staff   4.2M May 19 16:12 compression/zlib-5-shuffle.h5\n",
      "-rw-r--r--  1 albertofernandezmartinez  staff   4.1M May 19 16:12 compression/bzip2-5-shuffle.h5\n",
      "-rw-r--r--  1 albertofernandezmartinez  staff   5.0M May 19 16:12 compression/blosc-5-shuffle.h5\n",
      "-rw-r--r--  1 albertofernandezmartinez  staff   5.4M May 19 16:12 compression/blosc-lz4-5-shuffle.h5\n",
      "-rw-r--r--  1 albertofernandezmartinez  staff   4.8M May 19 16:12 compression/blosc-lz4hc-5-shuffle.h5\n",
      "-rw-r--r--  1 albertofernandezmartinez  staff    17M May 19 16:12 compression/blosc-snappy-5-shuffle.h5\n",
      "-rw-r--r--  1 albertofernandezmartinez  staff   4.3M May 19 16:12 compression/blosc-zlib-5-shuffle.h5\n",
      "-rw-r--r--  1 albertofernandezmartinez  staff   4.3M May 19 16:12 compression/blosc-zstd-5-shuffle.h5\n"
     ]
    }
   ],
   "source": [
    "generate_compressed(5)"
   ]
  },
  {
   "cell_type": "code",
   "execution_count": 39,
   "metadata": {},
   "outputs": [
    {
     "name": "stdout",
     "output_type": "stream",
     "text": [
      "CPU times: user 2 µs, sys: 1e+03 ns, total: 3 µs\n",
      "Wall time: 5.01 µs\n",
      "('Creating file:', 'compression/zlib-1-shuffle.h5')\n",
      "CPU times: user 2 µs, sys: 1 µs, total: 3 µs\n",
      "Wall time: 5.96 µs\n",
      "('Creating file:', 'compression/bzip2-1-shuffle.h5')\n",
      "CPU times: user 2 µs, sys: 0 ns, total: 2 µs\n",
      "Wall time: 5.01 µs\n",
      "('Creating file:', 'compression/blosc-1-shuffle.h5')\n",
      "CPU times: user 3 µs, sys: 1 µs, total: 4 µs\n",
      "Wall time: 7.15 µs\n",
      "('Creating file:', 'compression/blosc-lz4-1-shuffle.h5')\n",
      "CPU times: user 2 µs, sys: 0 ns, total: 2 µs\n",
      "Wall time: 5.01 µs\n",
      "('Creating file:', 'compression/blosc-lz4hc-1-shuffle.h5')\n",
      "CPU times: user 3 µs, sys: 1 µs, total: 4 µs\n",
      "Wall time: 5.96 µs\n",
      "('Creating file:', 'compression/blosc-snappy-1-shuffle.h5')\n",
      "CPU times: user 1e+03 ns, sys: 1 µs, total: 2 µs\n",
      "Wall time: 3.81 µs\n",
      "('Creating file:', 'compression/blosc-zlib-1-shuffle.h5')\n",
      "CPU times: user 2 µs, sys: 1 µs, total: 3 µs\n",
      "Wall time: 6.2 µs\n",
      "('Creating file:', 'compression/blosc-zstd-1-shuffle.h5')\n",
      "-rw-r--r--  1 albertofernandezmartinez  staff   4.3M May 19 16:12 compression/zlib-1-shuffle.h5\n",
      "-rw-r--r--  1 albertofernandezmartinez  staff   4.1M May 19 16:12 compression/bzip2-1-shuffle.h5\n",
      "-rw-r--r--  1 albertofernandezmartinez  staff    17M May 19 16:12 compression/blosc-1-shuffle.h5\n",
      "-rw-r--r--  1 albertofernandezmartinez  staff   5.6M May 19 16:12 compression/blosc-lz4-1-shuffle.h5\n",
      "-rw-r--r--  1 albertofernandezmartinez  staff   5.1M May 19 16:12 compression/blosc-lz4hc-1-shuffle.h5\n",
      "-rw-r--r--  1 albertofernandezmartinez  staff    17M May 19 16:12 compression/blosc-snappy-1-shuffle.h5\n",
      "-rw-r--r--  1 albertofernandezmartinez  staff   4.5M May 19 16:12 compression/blosc-zlib-1-shuffle.h5\n",
      "-rw-r--r--  1 albertofernandezmartinez  staff   4.6M May 19 16:12 compression/blosc-zstd-1-shuffle.h5\n"
     ]
    }
   ],
   "source": [
    "generate_compressed(1)"
   ]
  },
  {
   "cell_type": "code",
   "execution_count": null,
   "metadata": {
    "collapsed": true
   },
   "outputs": [],
   "source": []
  }
 ],
 "metadata": {
  "kernelspec": {
   "display_name": "Python 3",
   "language": "python",
   "name": "python3"
  },
  "language_info": {
   "codemirror_mode": {
    "name": "ipython",
    "version": 2
   },
   "file_extension": ".py",
   "mimetype": "text/x-python",
   "name": "python",
   "nbconvert_exporter": "python",
   "pygments_lexer": "ipython2",
   "version": "2.7.13"
  }
 },
 "nbformat": 4,
 "nbformat_minor": 2
}
