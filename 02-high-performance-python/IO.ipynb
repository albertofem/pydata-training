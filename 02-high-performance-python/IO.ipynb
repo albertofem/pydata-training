{
 "cells": [
  {
   "cell_type": "code",
   "execution_count": 1,
   "metadata": {
    "collapsed": true
   },
   "outputs": [],
   "source": [
    "import pandas as pd\n",
    "import numpy as np\n",
    "from time import perf_counter"
   ]
  },
  {
   "cell_type": "code",
   "execution_count": 2,
   "metadata": {
    "collapsed": true
   },
   "outputs": [],
   "source": [
    "td = pd.DataFrame.from_records(np.random.randn(1000000, 10), columns=list('abcdefghij'))"
   ]
  },
  {
   "cell_type": "code",
   "execution_count": 3,
   "metadata": {},
   "outputs": [
    {
     "name": "stdout",
     "output_type": "stream",
     "text": [
      "21.83264280399453\n"
     ]
    }
   ],
   "source": [
    "tic = perf_counter()\n",
    "td.to_csv('something.csv')\n",
    "print(perf_counter() - tic)"
   ]
  },
  {
   "cell_type": "code",
   "execution_count": 13,
   "metadata": {},
   "outputs": [
    {
     "name": "stdout",
     "output_type": "stream",
     "text": [
      "0.23619673500070348\n"
     ]
    }
   ],
   "source": [
    "tic = perf_counter()\n",
    "td.to_msgpack('something.mspk')\n",
    "print(perf_counter() - tic)"
   ]
  },
  {
   "cell_type": "code",
   "execution_count": 25,
   "metadata": {
    "scrolled": true
   },
   "outputs": [
    {
     "name": "stdout",
     "output_type": "stream",
     "text": [
      "0.16679915400163736\n"
     ]
    }
   ],
   "source": [
    "tic = perf_counter()\n",
    "td.to_hdf('something.h5', '/test')\n",
    "print(perf_counter() - tic)"
   ]
  },
  {
   "cell_type": "code",
   "execution_count": 7,
   "metadata": {},
   "outputs": [],
   "source": [
    "import feather"
   ]
  },
  {
   "cell_type": "code",
   "execution_count": 26,
   "metadata": {},
   "outputs": [
    {
     "name": "stdout",
     "output_type": "stream",
     "text": [
      "0.1381438899989007\n"
     ]
    }
   ],
   "source": [
    "tic = perf_counter()\n",
    "feather.write_dataframe(td, 'something.feather')\n",
    "print(perf_counter() - tic)"
   ]
  },
  {
   "cell_type": "code",
   "execution_count": 9,
   "metadata": {
    "collapsed": true
   },
   "outputs": [],
   "source": [
    "import fastparquet"
   ]
  },
  {
   "cell_type": "code",
   "execution_count": 29,
   "metadata": {},
   "outputs": [
    {
     "name": "stdout",
     "output_type": "stream",
     "text": [
      "3.655557748999854\n"
     ]
    }
   ],
   "source": [
    "tic = perf_counter()\n",
    "fastparquet.write('something.parq', td, compression='GZIP')\n",
    "print(perf_counter() - tic)"
   ]
  },
  {
   "cell_type": "code",
   "execution_count": 32,
   "metadata": {},
   "outputs": [],
   "source": [
    "from sqlalchemy import create_engine, Table, MetaData, Column, Float, BigInteger\n",
    "engine = create_engine('sqlite:///something.db')"
   ]
  },
  {
   "cell_type": "code",
   "execution_count": 33,
   "metadata": {},
   "outputs": [
    {
     "name": "stdout",
     "output_type": "stream",
     "text": [
      "23.568673335001222\n"
     ]
    }
   ],
   "source": [
    "# Do this and blow your memory up for 1M records\n",
    "tic = perf_counter()\n",
    "td.to_sql('test1', engine, chunksize=10000) \n",
    "print(perf_counter() - tic)"
   ]
  },
  {
   "cell_type": "code",
   "execution_count": 34,
   "metadata": {
    "collapsed": true
   },
   "outputs": [],
   "source": [
    "%load_ext line_profiler"
   ]
  },
  {
   "cell_type": "code",
   "execution_count": 35,
   "metadata": {
    "collapsed": true
   },
   "outputs": [],
   "source": [
    "metadata = MetaData()\n",
    "\n",
    "test_table = Table('test', metadata, \n",
    "                   Column('index', BigInteger, index=True),\n",
    "                   Column('a', Float),\n",
    "                   Column('b', Float),\n",
    "                   Column('c', Float),\n",
    "                   Column('d', Float),\n",
    "                   Column('e', Float),\n",
    "                   Column('f', Float),\n",
    "                   Column('g', Float),\n",
    "                   Column('h', Float),\n",
    "                   Column('i', Float),\n",
    "                   Column('j', Float))\n",
    "\n",
    "metadata.create_all(engine)\n",
    "connection = engine.connect()\n",
    "\n",
    "def chunked_sql(connection, df):\n",
    "    def chunker(seq, size):\n",
    "        return (seq[pos:pos + size] for pos in range(0, len(seq), size))\n",
    "\n",
    "    tic = perf_counter()\n",
    "\n",
    "    for chunk in chunker(df, 10000):\n",
    "        params = [c[1].to_dict() for c in chunk.iterrows()]\n",
    "        connection.execute(test_table.insert(), params)\n",
    "    print(perf_counter() - tic)"
   ]
  },
  {
   "cell_type": "code",
   "execution_count": 36,
   "metadata": {
    "scrolled": true
   },
   "outputs": [
    {
     "name": "stdout",
     "output_type": "stream",
     "text": [
      "64.51136466200114\n"
     ]
    }
   ],
   "source": [
    "chunked_sql(connection, td)"
   ]
  },
  {
   "cell_type": "code",
   "execution_count": null,
   "metadata": {},
   "outputs": [],
   "source": [
    "%lprun -f chunked_sql chunked_sql(connection, td)"
   ]
  },
  {
   "cell_type": "code",
   "execution_count": 37,
   "metadata": {},
   "outputs": [
    {
     "data": {
      "text/plain": [
       "array([[-0.74390642,  1.0754658 , -0.75182111, ..., -0.22499674,\n",
       "         0.37310822,  0.23912584],\n",
       "       [-0.72584056,  0.392192  , -3.44725952, ..., -0.19907306,\n",
       "         0.59576617,  1.0131095 ],\n",
       "       [-0.31823582, -0.55654468, -1.31238557, ..., -1.21973423,\n",
       "        -1.39000928, -1.02860781],\n",
       "       ..., \n",
       "       [ 1.13036761,  0.65445893,  0.83913626, ..., -0.1923888 ,\n",
       "         2.25438088,  1.00333901],\n",
       "       [ 1.15152809,  1.80424349, -1.26026771, ..., -0.88880133,\n",
       "        -1.27889135, -1.78820358],\n",
       "       [ 0.46277507,  0.59565984,  0.92318522, ..., -0.4336095 ,\n",
       "         0.34822949,  0.99846409]])"
      ]
     },
     "execution_count": 37,
     "metadata": {},
     "output_type": "execute_result"
    }
   ],
   "source": [
    "td.values"
   ]
  },
  {
   "cell_type": "code",
   "execution_count": 39,
   "metadata": {},
   "outputs": [
    {
     "name": "stdout",
     "output_type": "stream",
     "text": [
      "19.3291776210026\n"
     ]
    }
   ],
   "source": [
    "tic = perf_counter()\n",
    "td.to_sql('test2', engine, chunksize=10000)\n",
    "print(perf_counter() - tic)"
   ]
  }
 ],
 "metadata": {
  "kernelspec": {
   "display_name": "Python 3",
   "language": "python",
   "name": "python3"
  },
  "language_info": {
   "codemirror_mode": {
    "name": "ipython",
    "version": 3
   },
   "file_extension": ".py",
   "mimetype": "text/x-python",
   "name": "python",
   "nbconvert_exporter": "python",
   "pygments_lexer": "ipython3",
   "version": "3.6.0"
  }
 },
 "nbformat": 4,
 "nbformat_minor": 2
}
